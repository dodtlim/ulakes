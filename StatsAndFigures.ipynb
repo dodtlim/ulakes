{
 "cells": [
  {
   "cell_type": "markdown",
   "metadata": {},
   "source": [
    "# Statistics and figures\n",
    "\n",
    "This notebok contains all the statistics and figures (save for Figure 1) in the manuscript.\n",
    "\n",
    "Required packages : `rgl`, `beanplot`"
   ]
  },
  {
   "cell_type": "code",
   "execution_count": 1,
   "metadata": {
    "collapsed": true
   },
   "outputs": [],
   "source": [
    "%load_ext rpy2.ipython"
   ]
  },
  {
   "cell_type": "code",
   "execution_count": 2,
   "metadata": {
    "collapsed": true
   },
   "outputs": [],
   "source": [
    "# run this cell if you have a High-DPI monitor\n",
    "%load_ext retina"
   ]
  },
  {
   "cell_type": "code",
   "execution_count": 3,
   "metadata": {
    "collapsed": false
   },
   "outputs": [],
   "source": [
    "%%R\n",
    "#load files with sequencing depth\n",
    "depth<-read.table('64253_vs_64571_depth.tsv',header=T)\n",
    "depth2<-read.table('checkmate_vs_80344_depth.tsv',header=T)\n",
    "depth3<-read.table('78357_vs_78584_depth.tsv',header=T)\n",
    "\n",
    "#identify blocks sequenced above 80% in all three pairs\n",
    "kept<-depth[,5]>8000&depth2[,5]>8000&depth3[,5]>8000&depth[,7]>8000&depth2[,7]>8000&depth3[,7]>8000\n",
    "\n",
    "#now load df and dxy values per block, including only blocks above 80%\n",
    "victoria<-read.table('victoria_df_dxy.tsv',header=T)\n",
    "victoria=victoria[kept==T,]\n",
    "victoria=victoria[order(victoria[,1]),]\n",
    "kivu<-read.table('kivu_df_dxy.tsv',header=T)\n",
    "kivu=kivu[kept==T,]\n",
    "kivu=kivu[order(kivu[,1]),]\n",
    "mweru<-read.table('mweru_df_dxy.tsv',header=T)\n",
    "mweru=mweru[kept==T,]\n",
    "mweru=mweru[order(mweru[,1]),]"
   ]
  },
  {
   "cell_type": "code",
   "execution_count": 4,
   "metadata": {
    "collapsed": false
   },
   "outputs": [
    {
     "data": {
      "text/plain": [
       "[1] \"Victoria vs Kivu\"\n",
       "\n",
       "\tKruskal-Wallis rank sum test\n",
       "\n",
       "data:  victoria[, 4] and kivu[, 4]\n",
       "Kruskal-Wallis chi-squared = 219.66, df = 20, p-value < 2.2e-16\n",
       "\n",
       "[1] \"Mweru vs Kivu\"\n",
       "\n",
       "\tKruskal-Wallis rank sum test\n",
       "\n",
       "data:  mweru[, 4] and kivu[, 4]\n",
       "Kruskal-Wallis chi-squared = 356.48, df = 20, p-value < 2.2e-16\n",
       "\n",
       "[1] \"Victoria vs Mweru\"\n",
       "\n",
       "\tKruskal-Wallis rank sum test\n",
       "\n",
       "data:  victoria[, 4] and mweru[, 4]\n",
       "Kruskal-Wallis chi-squared = 581.38, df = 104, p-value < 2.2e-16\n",
       "\n"
      ]
     },
     "metadata": {},
     "output_type": "display_data"
    }
   ],
   "source": [
    "%%R\n",
    "#compare genome-wide fixed divergence between Victoria, Kivu, and Mweru\n",
    "print( \"Victoria vs Kivu\" )\n",
    "print( kruskal.test(victoria[,4],kivu[,4]) )\n",
    "print( \"Mweru vs Kivu\" )\n",
    "print( kruskal.test(mweru[,4],kivu[,4]) )\n",
    "print( \"Victoria vs Mweru\" )\n",
    "print( kruskal.test(victoria[,4],mweru[,4]) )"
   ]
  },
  {
   "cell_type": "code",
   "execution_count": 5,
   "metadata": {
    "collapsed": false
   },
   "outputs": [
    {
     "data": {
      "text/plain": [
       "[1] \"Victoria mean, std\"\n",
       "[1] 1.092892 1.496853\n",
       "[1] \"Kivu mean, std\"\n",
       "[1] 1.135792 1.535738\n",
       "[1] \"Mweru mean, std\"\n",
       "[1] 49.37924 13.02377\n"
      ]
     },
     "metadata": {},
     "output_type": "display_data"
    }
   ],
   "source": [
    "%%R\n",
    "#calculate means\n",
    "print( \"Victoria mean, std\" )\n",
    "print( c( mean(victoria[,4]), sd(victoria[,4]) ) )\n",
    "print( \"Kivu mean, std\" )\n",
    "print( c( mean(kivu[,4]), sd(kivu[,4]) ) )\n",
    "print( \"Mweru mean, std\" )\n",
    "print( c( mean(mweru[,4]), sd(mweru[,4]) ) )\n",
    "\n",
    "#calculate standard deviations\n"
   ]
  },
  {
   "cell_type": "code",
   "execution_count": 6,
   "metadata": {
    "collapsed": false
   },
   "outputs": [],
   "source": [
    "%%R\n",
    "#set mean+2SD threshold\n",
    "victoria.threshold<-mean(victoria[,4])+2*sd(victoria[,4])\n",
    "kivu.threshold<-mean(kivu[,4])+2*sd(kivu[,4])\n",
    "mweru.threshold<-mean(mweru[,4])+2*sd(mweru[,4])"
   ]
  },
  {
   "cell_type": "code",
   "execution_count": 7,
   "metadata": {
    "collapsed": false
   },
   "outputs": [
    {
     "data": {
      "text/plain": [
       "\n",
       "FALSE  TRUE \n",
       "37798  1409 \n",
       "\n",
       "FALSE  TRUE \n",
       "37734  1473 \n",
       "\n",
       "FALSE  TRUE \n",
       "38309   898 \n"
      ]
     },
     "metadata": {},
     "output_type": "display_data"
    }
   ],
   "source": [
    "%%R\n",
    "#calculate how many blocks fall above this threshold\n",
    "print( table(victoria[,4]>victoria.threshold) )\n",
    "print( table(kivu[,4]>kivu.threshold) )\n",
    "print( table(mweru[,4]>mweru.threshold) )"
   ]
  },
  {
   "cell_type": "code",
   "execution_count": 8,
   "metadata": {
    "collapsed": true
   },
   "outputs": [],
   "source": [
    "%%R\n",
    "#df outliers\n",
    "\n",
    "#top 1%\n",
    "victoria.out.q1<-victoria[,4]>quantile(victoria[,4],probs=0.99)\n",
    "kivu.out.q1<-kivu[,4]>quantile(kivu[,4],probs=0.99)\n",
    "mweru.out.q1<-mweru[,4]>quantile(mweru[,4],probs=0.99)\n",
    "\n",
    "#top 0.1%\n",
    "victoria.out.q01<-victoria[,4]>quantile(victoria[,4],probs=0.999)\n",
    "kivu.out.q01<-kivu[,4]>quantile(kivu[,4],probs=0.999)\n",
    "mweru.out.q01<-mweru[,4]>quantile(mweru[,4],probs=0.999)\n",
    "\n",
    "#top 0.01%\n",
    "victoria.out.q001<-victoria[,4]>quantile(victoria[,4],probs=0.9999)\n",
    "kivu.out.q001<-kivu[,4]>quantile(kivu[,4],probs=0.9999)\n",
    "mweru.out.q001<-mweru[,4]>quantile(mweru[,4],probs=0.9999)"
   ]
  },
  {
   "cell_type": "code",
   "execution_count": 9,
   "metadata": {
    "collapsed": false
   },
   "outputs": [
    {
     "data": {
      "text/plain": [
       "\n",
       "\tWilcoxon rank sum test with continuity correction\n",
       "\n",
       "data:  victoria[victoria.out.q1, 4] and mweru[, 4]\n",
       "W = 18686, p-value < 2.2e-16\n",
       "alternative hypothesis: true location shift is not equal to 0\n",
       "\n",
       "\n",
       "\tWilcoxon rank sum test with continuity correction\n",
       "\n",
       "data:  victoria[victoria.out.q01, 4] and mweru[, 4]\n",
       "W = 4627, p-value < 2.2e-16\n",
       "alternative hypothesis: true location shift is not equal to 0\n",
       "\n",
       "\n",
       "\tWilcoxon rank sum test with continuity correction\n",
       "\n",
       "data:  victoria[victoria.out.q001, 4] and mweru[, 4]\n",
       "W = 766.5, p-value = 0.003061\n",
       "alternative hypothesis: true location shift is not equal to 0\n",
       "\n",
       "\n",
       "\tWilcoxon rank sum test with continuity correction\n",
       "\n",
       "data:  kivu[kivu.out.q1, 4] and mweru[, 4]\n",
       "W = 23901, p-value < 2.2e-16\n",
       "alternative hypothesis: true location shift is not equal to 0\n",
       "\n",
       "\n",
       "\tWilcoxon rank sum test with continuity correction\n",
       "\n",
       "data:  kivu[kivu.out.q01, 4] and mweru[, 4]\n",
       "W = 8227.5, p-value < 2.2e-16\n",
       "alternative hypothesis: true location shift is not equal to 0\n",
       "\n",
       "\n",
       "\tWilcoxon rank sum test with continuity correction\n",
       "\n",
       "data:  kivu[kivu.out.q001, 4] and mweru[, 4]\n",
       "W = 2599.5, p-value = 0.004131\n",
       "alternative hypothesis: true location shift is not equal to 0\n",
       "\n"
      ]
     },
     "metadata": {},
     "output_type": "display_data"
    }
   ],
   "source": [
    "%%R\n",
    "# compare outliers in two young pairs to Mweru\n",
    "print( wilcox.test(victoria[victoria.out.q1,4],mweru[,4]) )\n",
    "print( wilcox.test(victoria[victoria.out.q01,4],mweru[,4]) )\n",
    "print( wilcox.test(victoria[victoria.out.q001,4],mweru[,4]) )\n",
    "\n",
    "print( wilcox.test(kivu[kivu.out.q1,4],mweru[,4]) )\n",
    "print( wilcox.test(kivu[kivu.out.q01,4],mweru[,4]) )\n",
    "print( wilcox.test(kivu[kivu.out.q001,4],mweru[,4]) )"
   ]
  },
  {
   "cell_type": "code",
   "execution_count": 10,
   "metadata": {
    "collapsed": false
   },
   "outputs": [
    {
     "data": {
      "text/plain": [
       "[1] \"--- q1 ---\"\n",
       "[1] 88.44986\n",
       "[1] 52.20745\n",
       "mweru.out.q1\n",
       "FALSE  TRUE \n",
       "38838   369 \n",
       "[1] 1.040347e-239\n",
       "[1] \"--- q01 ---\"\n",
       "[1] 99.04167\n",
       "[1] 52.50582\n",
       "mweru.out.q01\n",
       "FALSE  TRUE \n",
       "39171    36 \n",
       "[1] 2.842644e-25\n",
       "[1] \"--- q001 ---\"\n",
       "[1] 111.5\n",
       "[1] 52.54254\n",
       "mweru.out.q001\n",
       "FALSE  TRUE \n",
       "39203     4 \n",
       "[1] 0.0005320028\n"
      ]
     },
     "metadata": {},
     "output_type": "display_data"
    }
   ],
   "source": [
    "%%R\n",
    "#compare dxy values of df outlier regions, Mweru\n",
    "print( \"--- q1 ---\" )\n",
    "print( mean(mweru[mweru.out.q1==T,5]) )\n",
    "print( mean(mweru[mweru.out.q1==F,5]) )\n",
    "print( table(mweru.out.q1) )\n",
    "print( kruskal.test((mweru[,5])~mweru.out.q1)$p.value )\n",
    "\n",
    "print( \"--- q01 ---\" )\n",
    "print( mean(mweru[mweru.out.q01==T,5]) )\n",
    "print( mean(mweru[mweru.out.q01==F,5]) )\n",
    "print( table(mweru.out.q01) )\n",
    "print( kruskal.test((mweru[,5])~mweru.out.q01)$p.value )\n",
    "\n",
    "print( \"--- q001 ---\" )\n",
    "print( mean(mweru[mweru.out.q001==T,5]) )\n",
    "print( mean(mweru[mweru.out.q001==F,5]) )\n",
    "print( table(mweru.out.q001) )\n",
    "print( kruskal.test((mweru[,5])~mweru.out.q001)$p.value )"
   ]
  },
  {
   "cell_type": "code",
   "execution_count": 11,
   "metadata": {
    "collapsed": false
   },
   "outputs": [
    {
     "data": {
      "text/plain": [
       "[1] \"--- q1 ---\"\n",
       "[1] 11.3494\n",
       "[1] 3.210855\n",
       "kivu.out.q1\n",
       "FALSE  TRUE \n",
       "38958   249 \n",
       "[1] 3.46327e-161\n",
       "[1] \"--- q01 ---\"\n",
       "[1] 15.97436\n",
       "[1] 3.249885\n",
       "kivu.out.q01\n",
       "FALSE  TRUE \n",
       "39168    39 \n",
       "[1] 2.285252e-27\n",
       "[1] \"--- q001 ---\"\n",
       "[1] 24\n",
       "[1] 3.260956\n",
       "kivu.out.q001\n",
       "FALSE  TRUE \n",
       "39204     3 \n",
       "[1] 0.002616479\n"
      ]
     },
     "metadata": {},
     "output_type": "display_data"
    }
   ],
   "source": [
    "%%R\n",
    "#compare dxy values of df outlier regions, Kivu\n",
    "print( \"--- q1 ---\" )\n",
    "print( mean(kivu[kivu.out.q1==T,5]) )\n",
    "print( mean(kivu[kivu.out.q1==F,5]) )\n",
    "print( table(kivu.out.q1) )\n",
    "print( kruskal.test((kivu[,5])~kivu.out.q1)$p.value )\n",
    "\n",
    "print( \"--- q01 ---\" )\n",
    "print( mean(kivu[kivu.out.q01==T,5]) )\n",
    "print( mean(kivu[kivu.out.q01==F,5]) )\n",
    "print( table(kivu.out.q01) )\n",
    "print( kruskal.test((kivu[,5])~kivu.out.q01)$p.value )\n",
    "\n",
    "print( \"--- q001 ---\" )\n",
    "print( mean(kivu[kivu.out.q001==T,5]) )\n",
    "print( mean(kivu[kivu.out.q001==F,5]) )\n",
    "print( table(kivu.out.q001) )\n",
    "print( kruskal.test((kivu[,5])~kivu.out.q001)$p.value )"
   ]
  },
  {
   "cell_type": "code",
   "execution_count": 12,
   "metadata": {
    "collapsed": false
   },
   "outputs": [
    {
     "data": {
      "text/plain": [
       "[1] \"--- q1 ---\"\n",
       "[1] 10.66739\n",
       "[1] 2.961452\n",
       "victoria.out.q1\n",
       "FALSE  TRUE \n",
       "38977   230 \n",
       "[1] 8.751897e-150\n",
       "[1] \"--- q01 ---\"\n",
       "[1] 13.5\n",
       "[1] 2.997013\n",
       "victoria.out.q01\n",
       "FALSE  TRUE \n",
       "39171    36 \n",
       "[1] 2.294555e-25\n",
       "[1] \"--- q001 ---\"\n",
       "[1] 18.5\n",
       "[1] 3.005471\n",
       "victoria.out.q001\n",
       "FALSE  TRUE \n",
       "39204     3 \n",
       "[1] 0.002616555\n"
      ]
     },
     "metadata": {},
     "output_type": "display_data"
    }
   ],
   "source": [
    "%%R\n",
    "#compare dxy values of df outlier regions, Victoria\n",
    "print( \"--- q1 ---\" )\n",
    "print( mean(victoria[victoria.out.q1==T,5]) )\n",
    "print( mean(victoria[victoria.out.q1==F,5]) )\n",
    "print( table(victoria.out.q1) )\n",
    "print( kruskal.test((victoria[,5])~victoria.out.q1)$p.value )\n",
    "\n",
    "print( \"--- q01 ---\" )\n",
    "print( mean(victoria[victoria.out.q01==T,5]) )\n",
    "print( mean(victoria[victoria.out.q01==F,5]) )\n",
    "print( table(victoria.out.q01) )\n",
    "print( kruskal.test((victoria[,5])~victoria.out.q01)$p.value )\n",
    "\n",
    "print( \"--- q001 ---\" )\n",
    "print( mean(victoria[victoria.out.q001==T,5]) )\n",
    "print( mean(victoria[victoria.out.q001==F,5]) )\n",
    "print( table(victoria.out.q001) )\n",
    "print( kruskal.test((victoria[,5])~victoria.out.q001)$p.value )"
   ]
  },
  {
   "cell_type": "markdown",
   "metadata": {},
   "source": [
    "### test for elevated $d_{xy}$ in $d_f$ outlier regions from another pair"
   ]
  },
  {
   "cell_type": "code",
   "execution_count": 13,
   "metadata": {
    "collapsed": false
   },
   "outputs": [
    {
     "data": {
      "text/plain": [
       "[1] \"--- q1 ---\"\n",
       "[1] 4.119565\n",
       "[1] 3.257485\n",
       "[1] 2.754401e-09\n",
       "[1] \"--- q01 ---\"\n",
       "[1] 4.625\n",
       "[1] 3.26129\n",
       "[1] 9.740983e-05\n",
       "[1] \"--- q001 ---\"\n",
       "[1] 4\n",
       "[1] 3.262486\n",
       "[1] 0.5400406\n"
      ]
     },
     "metadata": {},
     "output_type": "display_data"
    }
   ],
   "source": [
    "%%R\n",
    "\n",
    "#vic outliers in kivu\n",
    "print( \"--- q1 ---\" )\n",
    "print( mean(kivu[victoria.out.q1==T,5]) )\n",
    "print( mean(kivu[victoria.out.q1==F,5]) )\n",
    "print( kruskal.test((kivu[,5])~victoria.out.q1)$p.value )\n",
    "\n",
    "print( \"--- q01 ---\" )\n",
    "print( mean(kivu[victoria.out.q01==T,5]) )\n",
    "print( mean(kivu[victoria.out.q01==F,5]) )\n",
    "print( kruskal.test((kivu[,5])~victoria.out.q01)$p.value )\n",
    "\n",
    "print( \"--- q001 ---\" )\n",
    "print( mean(kivu[victoria.out.q001==T,5]) )\n",
    "print( mean( kivu[victoria.out.q001==F,5]) )\n",
    "print( kruskal.test((kivu[,5])~victoria.out.q001)$p.value )"
   ]
  },
  {
   "cell_type": "code",
   "execution_count": 14,
   "metadata": {
    "collapsed": false
   },
   "outputs": [
    {
     "data": {
      "text/plain": [
       "[1] \"--- q1 ---\"\n",
       "[1] 58.7663\n",
       "[1] 52.51186\n",
       "[1] 1.61552e-12\n",
       "[1] \"--- q01 ---\"\n",
       "[1] 60.76389\n",
       "[1] 52.541\n",
       "[1] 0.0005688344\n",
       "[1] \"--- q001 ---\"\n",
       "[1] 61.33333\n",
       "[1] 52.54788\n",
       "[1] 0.6102441\n"
      ]
     },
     "metadata": {},
     "output_type": "display_data"
    }
   ],
   "source": [
    "%%R\n",
    "#vic outliers in mweru\n",
    "print( \"--- q1 ---\" )\n",
    "print( mean(mweru[victoria.out.q1==T,5]) )\n",
    "print( mean(mweru[victoria.out.q1==F,5]) )\n",
    "print( kruskal.test((mweru[,5])~victoria.out.q1)$p.value )\n",
    "\n",
    "print( \"--- q01 ---\" )\n",
    "print( mean(mweru[victoria.out.q01==T,5]) )\n",
    "print( mean(mweru[victoria.out.q01==F,5]) )\n",
    "print( kruskal.test((mweru[,5])~victoria.out.q01)$p.value )\n",
    "\n",
    "print( \"--- q001 ---\" )\n",
    "print( mean(mweru[victoria.out.q001==T,5]) )\n",
    "print( mean(mweru[victoria.out.q001==F,5]) )\n",
    "print( kruskal.test((mweru[,5])~victoria.out.q001)$p.value )"
   ]
  },
  {
   "cell_type": "code",
   "execution_count": 15,
   "metadata": {
    "collapsed": false
   },
   "outputs": [
    {
     "data": {
      "text/plain": [
       "[1] \"--- q1 ---\"\n",
       "[1] 3.313253\n",
       "[1] 3.004697\n",
       "[1] 0.005766019\n",
       "[1] \"--- q01 ---\"\n",
       "[1] 3.423077\n",
       "[1] 3.006242\n",
       "[1] 0.1582576\n",
       "[1] \"--- q001 ---\"\n",
       "[1] 4.166667\n",
       "[1] 3.006568\n",
       "[1] 0.2179059\n"
      ]
     },
     "metadata": {},
     "output_type": "display_data"
    }
   ],
   "source": [
    "%%R\n",
    "#kivu outliers in victoria\n",
    "print( \"--- q1 ---\" )\n",
    "print( mean(victoria[kivu.out.q1==T,5]) )\n",
    "print( mean(victoria[kivu.out.q1==F,5]) )\n",
    "print( kruskal.test((victoria[,5])~kivu.out.q1)$p.value )\n",
    "\n",
    "print( \"--- q01 ---\" )\n",
    "print( mean(victoria[kivu.out.q01==T,5]) )\n",
    "print( mean(victoria[kivu.out.q01==F,5]) )\n",
    "print( kruskal.test((victoria[,5])~kivu.out.q01)$p.value )\n",
    "\n",
    "print( \"--- q001 ---\" )\n",
    "print( mean(victoria[kivu.out.q001==T,5]) )\n",
    "print( mean(victoria[kivu.out.q001==F,5]) )\n",
    "print( kruskal.test((victoria[,5])~kivu.out.q001)$p.value )"
   ]
  },
  {
   "cell_type": "code",
   "execution_count": 16,
   "metadata": {
    "collapsed": false
   },
   "outputs": [
    {
     "data": {
      "text/plain": [
       "[1] \"--- q1 ---\"\n",
       "[1] 56.94578\n",
       "[1] 52.52045\n",
       "[1] 1.852051e-06\n",
       "[1] \"--- q01 ---\"\n",
       "[1] 62.62821\n",
       "[1] 52.53851\n",
       "[1] 7.6108e-05\n",
       "[1] \"--- q001 ---\"\n",
       "[1] 50.5\n",
       "[1] 52.54871\n",
       "[1] 0.7644699\n"
      ]
     },
     "metadata": {},
     "output_type": "display_data"
    }
   ],
   "source": [
    "%%R\n",
    "#kivu outliers in mweru\n",
    "print( \"--- q1 ---\" )\n",
    "print( mean(mweru[kivu.out.q1==T,5]) )\n",
    "print( mean(mweru[kivu.out.q1==F,5]) )\n",
    "print( kruskal.test((mweru[,5])~kivu.out.q1)$p.value )\n",
    "\n",
    "print( \"--- q01 ---\" )\n",
    "print( mean(mweru[kivu.out.q01==T,5]) )\n",
    "print( mean(mweru[kivu.out.q01==F,5]) )\n",
    "print( kruskal.test((mweru[,5])~kivu.out.q01)$p.value )\n",
    "\n",
    "print( \"--- q001 ---\" )\n",
    "print( mean(mweru[kivu.out.q001==T,5]) )\n",
    "print( mean(mweru[kivu.out.q001==F,5]) )\n",
    "print( kruskal.test((mweru[,5])~kivu.out.q001)$p.value )"
   ]
  },
  {
   "cell_type": "code",
   "execution_count": 17,
   "metadata": {
    "collapsed": false
   },
   "outputs": [
    {
     "data": {
      "text/plain": [
       "[1] \"--- q1 ---\"\n",
       "[1] 3.909214\n",
       "[1] 2.998082\n",
       "[1] 3.57716e-18\n",
       "[1] \"--- q01 ---\"\n",
       "[1] 3.75\n",
       "[1] 3.005974\n",
       "[1] 0.04031148\n",
       "[1] \"--- q001 ---\"\n",
       "[1] 2.375\n",
       "[1] 3.006721\n",
       "[1] 0.6219069\n"
      ]
     },
     "metadata": {},
     "output_type": "display_data"
    }
   ],
   "source": [
    "%%R\n",
    "#mweru outliers in victoria\n",
    "print( \"--- q1 ---\" )\n",
    "print( mean(victoria[mweru.out.q1==T,5]) )\n",
    "print( mean(victoria[mweru.out.q1==F,5]) )\n",
    "print( kruskal.test((victoria[,5])~mweru.out.q1)$p.value )\n",
    "\n",
    "print( \"--- q01 ---\" )\n",
    "print( mean(victoria[mweru.out.q01==T,5]) )\n",
    "print( mean(victoria[mweru.out.q01==F,5]) )\n",
    "print( kruskal.test((victoria[,5])~mweru.out.q01)$p.value )\n",
    "\n",
    "print( \"--- q001 ---\" )\n",
    "print( mean(victoria[mweru.out.q001==T,5]) )\n",
    "print( mean(victoria[mweru.out.q001==F,5]) )\n",
    "print( kruskal.test((victoria[,5])~mweru.out.q001)$p.value )"
   ]
  },
  {
   "cell_type": "code",
   "execution_count": 18,
   "metadata": {
    "collapsed": false
   },
   "outputs": [
    {
     "data": {
      "text/plain": [
       "[1] \"--- q1 ---\"\n",
       "[1] 4.23916\n",
       "[1] 3.253264\n",
       "[1] 4.026493e-16\n",
       "[1] \"--- q01 ---\"\n",
       "[1] 4.256944\n",
       "[1] 3.261629\n",
       "[1] 0.002676548\n",
       "[1] \"--- q001 ---\"\n",
       "[1] 4\n",
       "[1] 3.262467\n",
       "[1] 0.7964774\n"
      ]
     },
     "metadata": {},
     "output_type": "display_data"
    }
   ],
   "source": [
    "%%R\n",
    "#mweru outliers in kivu\n",
    "print( \"--- q1 ---\" )\n",
    "print( mean(kivu[mweru.out.q1==T,5]) )\n",
    "print( mean(kivu[mweru.out.q1==F,5]) )\n",
    "print( kruskal.test((kivu[,5])~mweru.out.q1)$p.value )\n",
    "\n",
    "print( \"--- q01 ---\" )\n",
    "print( mean(kivu[mweru.out.q01==T,5]) )\n",
    "print( mean(kivu[mweru.out.q01==F,5]) )\n",
    "print( kruskal.test((kivu[,5])~mweru.out.q01)$p.value )\n",
    "\n",
    "print( \"--- q001 ---\" )\n",
    "print( mean(kivu[mweru.out.q001==T,5]) )\n",
    "print( mean(kivu[mweru.out.q001==F,5]) )\n",
    "print( kruskal.test((kivu[,5])~mweru.out.q001)$p.value )"
   ]
  },
  {
   "cell_type": "markdown",
   "metadata": {},
   "source": [
    "### Figure 2A"
   ]
  },
  {
   "cell_type": "code",
   "execution_count": 19,
   "metadata": {
    "collapsed": false
   },
   "outputs": [
    {
     "name": "stderr",
     "output_type": "stream",
     "text": [
      "/usr/lib/python2.7/dist-packages/rpy2/robjects/functions.py:106: UserWarning: Loading required package: rgl\n",
      "\n",
      "  res = super(Function, self).__call__(*new_args, **new_kwargs)\n"
     ]
    }
   ],
   "source": [
    "%%R\n",
    "#rgl plot prep, Figure 2A\n",
    "require(rgl)\n",
    "victoria.pi<-scale(victoria[,4],center=F,scale=max(mweru[,4]))\n",
    "kivu.pi<-scale(kivu[,4],center=F,scale=max(mweru[,4]))\n",
    "mweru.pi<-scale(mweru[,4],center=F,scale=max(mweru[,4]))\n",
    "\n",
    "\n",
    "mwerucol=c(\"red\",\"blue\",\"red\",\"blue\",\"red\",\"blue\",\"red\",\"blue\",\n",
    "\"red\",\"blue\",\"red\",\"blue\",\"red\",\n",
    "\"blue\",\"red\",\"blue\",\"red\",\"blue\",\"red\",\"blue\")[mweru[,1]]\n",
    "m.y <- seq(-2, 2, length=100)\n",
    "m.x <-c(1:length(mweru[,4]))\n",
    "m.f <- function(s,t) {\n",
    "(mweru.pi[s]*(1-abs(t/2)))\n",
    "}\n",
    "m.z <- outer(m.x, m.y, m.f)\n",
    "\n",
    "\n",
    "k.y <- seq(-2, 2, length=100)\n",
    "k.x <-c(1:length(kivu[,4]))\n",
    "k.f <- function(s,t) {\n",
    "(kivu.pi[s]*(1-abs(t/2)))\n",
    "}\n",
    "k.z <- outer(k.x, k.y, k.f)\n",
    "\n",
    "v.y <- seq(-2, 2, length=100)\n",
    "v.x <-c(1:length(victoria[,4]))\n",
    "v.f <- function(s,t) {\n",
    "(victoria.pi[s]*(1-abs(t/2)))\n",
    "}\n",
    "v.z <- outer(v.x, v.y, v.f)\n",
    "\n",
    "col.out.vic<- c(\"blue\", \"red\")[as.integer(victoria.out.q1)+1]\n",
    "col.out.kivu<- c(\"blue\", \"red\")[as.integer(kivu.out.q1)+1]\n",
    "col.out.mweru<- c(\"blue\", \"red\")[as.integer(mweru.out.q1)+1]\n",
    "\n",
    "plotpersp<-matrix(c( 0.71309084,  0.6988822, -0.05536157,  0,\n",
    "                    -0.09950599,  0.1790637,  0.97879231,  0,\n",
    "                     0.69397390, -0.6924592,  0.19723161,  0,\n",
    "                     0.00000000,  0.0000000,  0.00000000,  1), \n",
    "                  nrow=4, ncol=4, byrow=T )\n",
    "\n",
    "#Figure 2A\n",
    "par3d( windowRect=c( 0,0,1000,1000 ), userMatrix=plotpersp )\n",
    "\n",
    "persp3d(1:table(kept)[2],1:100,v.z,aspect=c(10,1,1),axes=F,col=mwerucol,xlab=\"\",ylab=\"\",zlab=\"\")\n",
    "persp3d(1:table(kept)[2],201:300,k.z,axes=F,col=mwerucol,add=T)\n",
    "persp3d(1:table(kept)[2],401:500,m.z,axes=F,col=mwerucol,add=T)\n",
    "snapshot3d( file='Figure_2A.png' )\n",
    "\n",
    "#Exit rgl\n",
    "rgl.close()\n",
    "rgl.quit()"
   ]
  },
  {
   "cell_type": "code",
   "execution_count": 20,
   "metadata": {
    "collapsed": false
   },
   "outputs": [
    {
     "name": "stdout",
     "output_type": "stream",
     "text": [
      "Populating the interactive namespace from numpy and matplotlib\n"
     ]
    },
    {
     "data": {
      "image/png": "[encoded data removed]",
      "text/plain": [
       "<matplotlib.figure.Figure at 0x7f10bad2f250>"
      ]
     },
     "metadata": {},
     "output_type": "display_data"
    }
   ],
   "source": [
    "%pylab inline\n",
    "\n",
    "from IPython.display import display, Image\n",
    "import os\n",
    "import matplotlib.image as mpimg\n",
    "import matplotlib.pyplot as plt\n",
    "\n",
    "figure(figsize=(5, 5))\n",
    "\n",
    "plt.imshow(mpimg.imread('Figure_2A.png'))\n",
    "plt.axis('off')\n",
    "        \n",
    "plt.tight_layout()"
   ]
  },
  {
   "cell_type": "markdown",
   "metadata": {},
   "source": [
    "### Figure 2B"
   ]
  },
  {
   "cell_type": "code",
   "execution_count": 21,
   "metadata": {
    "collapsed": false
   },
   "outputs": [
    {
     "data": {
      "image/png": "[encoded data removed]"
     },
     "metadata": {},
     "output_type": "display_data"
    }
   ],
   "source": [
    "%%R\n",
    "#Figure 2B\n",
    "par(mfrow=c(3,2))\n",
    "par(mar=c(0,5,5,0))\n",
    "plot(mweru[,4]/10000,col=mwerucol,xaxt=\"n\",cex=0.5,\n",
    "ylab=\"df (Mweru)\",pch=16,ylim=c(0,max(mweru[,5]/10000)))\n",
    "par(mar=c(0,0,5,5))\n",
    "plot(sort(mweru[,4]/10000,decreasing=T),pch=16,\n",
    "yaxt=\"n\",xaxt=\"n\",xlab=\"\",cex=0.5,ylim=c(0,max(mweru[,4]/10000)))\n",
    "par(mar=c(2.5,5,2.5,0))\n",
    "plot(kivu[,4]/10000,col=mwerucol,xaxt=\"n\",ylab=\"df (Kivu)\",cex=0.5,\n",
    "pch=16,ylim=c(0,max(mweru[,5]/10000)))\n",
    "par(mar=c(2.5,0,2.5,5))\n",
    "plot(sort(kivu[,4]/10000,decreasing=T),pch=16,\n",
    "yaxt=\"n\",xaxt=\"n\",xlab=\"\",cex=0.5,ylim=c(0,max(mweru[,4]/10000)))\n",
    "par(mar=c(5,5,0,0))\n",
    "plot(victoria[,4]/10000,xlab=\"10kb blocks\",col=mwerucol,cex=0.5,\n",
    "ylab=\"df (Victoria)\",pch=16,ylim=c(0,max(mweru[,5]/10000)))\n",
    "par(mar=c(5,0,0,5))\n",
    "plot(sort(victoria[,4]/10000,decreasing=T),pch=16,\n",
    "yaxt=\"n\",xlab=\"10kb blocks\",cex=0.5,ylim=c(0,max(mweru[,4]/10000)))"
   ]
  },
  {
   "cell_type": "markdown",
   "metadata": {},
   "source": [
    "### Figure 3"
   ]
  },
  {
   "cell_type": "code",
   "execution_count": 22,
   "metadata": {
    "collapsed": false
   },
   "outputs": [
    {
     "data": {
      "image/png": "[encoded data removed]"
     },
     "metadata": {},
     "output_type": "display_data"
    }
   ],
   "source": [
    "%%R\n",
    "# Figure 3\n",
    "library(beanplot)\n",
    "par(mfrow=c(1,3))\n",
    "beanplot((victoria[,5]/10000)~victoria.out.q1,what=c(0,1,1,0),bw=\"nrd0\",\n",
    "xaxt=\"n\",ylab=\"dxy\",main=\"Victoria\")\n",
    "axis(1,1:2,labels=c(\"Whole genome excl. islands\",\"Islands\"))\n",
    "\n",
    "beanplot((kivu[,5]/10000)~kivu.out.q1,what=c(0,1,1,0),bw=\"nrd0\",\n",
    "xaxt=\"n\",ylab=\"dxy\",main=\"Kivu\")\n",
    "axis(1,1:2,labels=c(\"Whole genome excl. islands\",\"Islands\"))\n",
    "\n",
    "beanplot((mweru[,5]/10000)~mweru.out.q1,what=c(0,1,1,0),bw=\"nrd0\",\n",
    "xaxt=\"n\",ylab=\"dxy\",main=\"Mweru\")\n",
    "axis(1,1:2,labels=c(\"Whole genome excl. islands\",\"Islands\"))"
   ]
  },
  {
   "cell_type": "markdown",
   "metadata": {},
   "source": [
    "### Figure 4"
   ]
  },
  {
   "cell_type": "code",
   "execution_count": 23,
   "metadata": {
    "collapsed": false
   },
   "outputs": [
    {
     "data": {
      "image/png": "[encoded data removed]"
     },
     "metadata": {},
     "output_type": "display_data"
    }
   ],
   "source": [
    "%%R\n",
    "#Figure 4\n",
    "par(mfrow=c(2,3))\n",
    "par(mar=c(2.5,4,2.5,1))\n",
    "beanplot((kivu[,5]/10000)~victoria.out.q1,what=c(0,1,1,0),bw=\"nrd0\",\n",
    "xaxt=\"n\",ylab=\"dxy\")\n",
    "legend(\"topleft\", \"a\", bty=\"n\") \n",
    "axis(1,1:2,labels=c(\"Victorian non-islands in Kivu\",\"Victorian islands in Kivu\"))\n",
    "beanplot((victoria[,5]/10000)~kivu.out.q1,what=c(0,1,1,0),bw=\"nrd0\",\n",
    "xaxt=\"n\",ylab=\"dxy\")\n",
    "legend(\"topleft\", \"b\", bty=\"n\") \n",
    "axis(1,1:2,labels=c(\"Kivu non-islands in Victoria\",\"Kivu islands in Victoria\"))\n",
    "beanplot((victoria[,5]/10000)~mweru.out.q1,what=c(0,1,1,0),bw=\"nrd0\",\n",
    "xaxt=\"n\",ylab=\"dxy\")\n",
    "legend(\"topleft\", \"c\", bty=\"n\") \n",
    "axis(1,1:2,labels=c(\"Mweru non-islands in Victoria\",\"Mweru islands in Victoria\"))\n",
    "beanplot((mweru[,5]/10000)~victoria.out.q1,what=c(0,1,1,0),bw=\"nrd0\",\n",
    "xaxt=\"n\",ylab=\"dxy\")\n",
    "legend(\"topleft\", \"d\", bty=\"n\") \n",
    "axis(1,1:2,labels=c(\"Victorian non-islands in Mweru\",\"Victorian islands in Mweru\"))\n",
    "beanplot((mweru[,5]/10000)~kivu.out.q1,what=c(0,1,1,0),bw=\"nrd0\",\n",
    "xaxt=\"n\",ylab=\"dxy\")\n",
    "legend(\"topleft\", \"e\", bty=\"n\") \n",
    "axis(1,1:2,labels=c(\"Kivu non-islands in Mweru\",\"Kivu islands in Mweru\"))\n",
    "beanplot((kivu[,5]/10000)~mweru.out.q1,what=c(0,1,1,0),bw=\"nrd0\",\n",
    "xaxt=\"n\",ylab=\"dxy\")\n",
    "legend(\"topleft\", \"f\", bty=\"n\") \n",
    "axis(1,1:2,labels=c(\"Mweru non-islands in Kivu\",\"Mweru islands in Kivu\"))"
   ]
  }
 ],
 "metadata": {
  "kernelspec": {
   "display_name": "Python 2",
   "language": "python",
   "name": "python2"
  },
  "language_info": {
   "codemirror_mode": {
    "name": "ipython",
    "version": 2
   },
   "file_extension": ".py",
   "mimetype": "text/x-python",
   "name": "python",
   "nbconvert_exporter": "python",
   "pygments_lexer": "ipython2",
   "version": "2.7.9"
  }
 },
 "nbformat": 4,
 "nbformat_minor": 0
}
