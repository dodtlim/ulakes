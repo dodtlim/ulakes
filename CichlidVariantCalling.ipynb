{
 "cells": [
  {
   "cell_type": "markdown",
   "metadata": {},
   "source": [
    "# Cichlid genome variant calling"
   ]
  },
  {
   "cell_type": "markdown",
   "metadata": {},
   "source": [
    "### Step 1 : align the reads\n",
    "\n",
    "Download the *Oreochromis niloticus* (Nile tilapia) genome :\n",
    "\n",
    ">[ftp://hgdownload.cse.ucsc.edu/goldenPath/oreNil2/bigZips/README.txt](ftp://hgdownload.cse.ucsc.edu/goldenPath/oreNil2/bigZips/README.txt)\n",
    "\n",
    "\n",
    ">Jan. 2011 (Nile tilapia/oreNil2) assembly of the nile tilapia genome\n",
    ">(oreNil2, Broad Institute of MIT and Harvard Orenil1.1 (GCA_000188235.1))\n",
    "\n",
    "We use [`bowtie2`](http://bowtie-bio.sourceforge.net/bowtie2/index.shtml) \n",
    "to align the reads and [`samtools`](https://samtools.github.io/) to generate\n",
    "sorted BAM files."
   ]
  },
  {
   "cell_type": "code",
   "execution_count": null,
   "metadata": {
    "collapsed": true
   },
   "outputs": [],
   "source": [
    "# kill this before it writes too much data -- we just want the read group\n",
    "!zcat ../biggerrun/Checkmate_NoIndex_L007_R1_001.fastq.gz > R1.fasta\n",
    "\n",
    "!readgroupID=`head -n 1 R1.fastq | cut -d \":\" -f 3,4 | sed s/:/-/g`\n",
    "\n",
    "!rm R1.fastq\n",
    "\n",
    "!bowtie2-build oreNil2.fa oreNil2\n",
    "\n",
    "!bowtie2 -x oreNil2 -1 \\\n",
    "../biggerrun/Checkmate_NoIndex_L007_R1_001.fastq.gz -2 \\\n",
    "../biggerrun/Checkmate_NoIndex_L007_R3_001.fastq.gz -q --phred33 -S \\\n",
    "checkmate.bt2.sam --un-conc checkmate.unmapped.fastq --end-to-end \\\n",
    "--sensitive --fr -X 500 -I 0 --rg-id $readgroupID --rg SM:checkmate \\\n",
    "--rg PL:ILLUMINA --rg LB:checkmate -p 16\n",
    "        \n",
    "!samtools view -bS checkmate.bt2.sam > checkmate.bt2.bam\n",
    "\n",
    "!samtools sort -@ 24 -m 4G checkmate.bt2.bam checkmate.bt2.sorted"
   ]
  },
  {
   "cell_type": "markdown",
   "metadata": {},
   "source": [
    "The output for the alignment step was... \n",
    "\n",
    "    208652558 reads; of these:\n",
    "      208652558 (100.00%) were paired; of these:\n",
    "        114535729 (54.89%) aligned concordantly 0 times\n",
    "        73929838 (35.43%) aligned concordantly exactly 1 time\n",
    "        20186991 (9.67%) aligned concordantly >1 times\n",
    "        ----\n",
    "        114535729 pairs aligned concordantly 0 times; of these:\n",
    "          5023993 (4.39%) aligned discordantly 1 time\n",
    "        ----\n",
    "        109511736 pairs aligned 0 times concordantly or discordantly; of\n",
    "    these:\n",
    "          219023472 mates make up the pairs; of these:\n",
    "            154234827 (70.42%) aligned 0 times\n",
    "            37425398 (17.09%) aligned exactly 1 time\n",
    "            27363247 (12.49%) aligned >1 times\n",
    "    63.04% overall alignment rate"
   ]
  },
  {
   "cell_type": "markdown",
   "metadata": {},
   "source": [
    "### Step 2 : clean up the alignments\n",
    "\n",
    "We used [`picard`](http://broadinstitute.github.io/picard/) to call the\n",
    "variants. Here are the commands run for \"checkmate,\" the fish from \n",
    "lake Victoria.\n",
    "\n",
    "For the \"checkmate\" genome, I used a current version of picard \n",
    "(1.130) instead of the ancient version used in HPC submission scripts \n",
    "used for the other genomes (1.80). The calling semantics are slightly\n",
    "different, but the options are the same."
   ]
  },
  {
   "cell_type": "code",
   "execution_count": null,
   "metadata": {
    "collapsed": true
   },
   "outputs": [],
   "source": [
    "!java -Xmx4g -Djava.io.tmpdir=./temp -jar \\\n",
    "../../pkg/picard-tools-1.130/picard.jar MarkDuplicates \\\n",
    "INPUT=checkmate.bt2.sorted.bam OUTPUT=checkmate.bt2.dedup.bam \\\n",
    "METRICS_FILE=checkmate.bt2.metrics.txt TMP_DIR=/tmp/ \\\n",
    "ASSUME_SORTED=true MAX_FILE_HANDLES_FOR_READ_ENDS_MAP=1000 \\\n",
    "READ_NAME_REGEX=\"[a-zA-Z0-9]+-[a-zA-Z0-9]+:[0-9]+:[a-zA-Z0-9]+:[0-9]+:([0-9]+):([0-9]+):([0-9]+)\"\n",
    "\n",
    "!samtools faidx oreNil2.fa\n",
    "\n",
    "!java -jar ../../pkg/picard-tools-1.130/picard.jar \\\n",
    "CreateSequenceDictionary R=oreNil2.fa O=oreNil2.dict\n",
    "\n",
    "!samtools index checkmate.bt2.dedup.bam\n",
    "\n",
    "!java -Xmx4g -Djava.io.tmpdir=/tmp -jar ../../pkg/GenomeAnalysisTK.jar \\\n",
    "-T DepthOfCoverage -R oreNil2.fa -I checkmate.bt2.dedup.bam -o \\\n",
    "depth.checkmate --minBaseQuality 17 --minMappingQuality 10 \\\n",
    "--summaryCoverageThreshold 15 --countType \\\n",
    "COUNT_FRAGMENTS_REQUIRE_SAME_BASE\n",
    "\n",
    "!java -Xmx4g -Djava.io.tmpdir=/tmp -jar ../../pkg/GenomeAnalysisTK.jar \\\n",
    "-T RealignerTargetCreator -R oreNil2.fa -I checkmate.bt2.dedup.bam -nt \\\n",
    "16 -o target_intervals.list\n",
    "\n",
    "!java -Xmx4g -Djava.io.tmpdir=/tmp -jar ../../pkg/GenomeAnalysisTK.jar \\\n",
    "-T IndelRealigner -R oreNil2.fa -I checkmate.bt2.dedup.bam \\\n",
    "-targetIntervals target_intervals.list -o checkmate.dedup.realign.bam"
   ]
  },
  {
   "cell_type": "markdown",
   "metadata": {},
   "source": [
    "### Step 3 : call the variants\n",
    "\n",
    "Sorted, deduped and realigned BAM files were created for the other\n",
    "cichlid genomes using the same method described above for the \"checkmate\"\n",
    "genome. The `UnifiedGenotyper`in `picard` was then used to call the\n",
    "variants, and [`bcftools`](https://samtools.github.io/bcftools/) was used\n",
    "to pull out the SNPs for the speices pairs in lakes Kivu, Victoria and Mweru."
   ]
  },
  {
   "cell_type": "code",
   "execution_count": null,
   "metadata": {
    "collapsed": true
   },
   "outputs": [],
   "source": [
    "!for i in $(ls *.bam); do samtools index $i; done \\\n",
    "java -Xmx4g -Djava.io.tmpdir=/tmp -jar ../../pkg/GenomeAnalysisTK.jar \\\n",
    "-T UnifiedGenotyper -R oreNil2.fa -I 64253.dedup.realign.bam -I \\\n",
    "64571.dedup.realign.bam -I 64767.dedup.realign.bam -I \\\n",
    "78357.dedup.realign.bam -I 78584.dedup.realign.bam -I \\\n",
    "80344.dedup.realign.bam -I 81032.dedup.realign.bam -I \\\n",
    "81342.dedup.realign.bam -I checkmate.dedup.realign.bam -o \\\n",
    "cichlid.wgs.vcf -nt 16 -nct 3 --output_mode EMIT_ALL_CONFIDENT_SITES \\\n",
    "-stand_call_conf 30 -stand_emit_conf 30 --min_base_quality_score 17 \\\n",
    "--genotype_likelihoods_model BOTH\n",
    "\n",
    "!bcftools/bcftools view cichlid.wgs.vcf -o SNPs_only.kivu.vcf -O v -x -s 64571,64253\n",
    "\n",
    "!bcftools/bcftools view cichlid.wgs.vcf -o SNPs_only.victora.vcf -O v -x -s checkmate,80344\n",
    "\n",
    "!home/russell/pkg/bcftools/bcftools view cichlid.wgs.vcf -o SNPs_only.mweru.vcf -O v -x -s 78357,78584"
   ]
  },
  {
   "cell_type": "markdown",
   "metadata": {},
   "source": [
    "### Continue on to the ulakes notebook..."
   ]
  }
 ],
 "metadata": {
  "kernelspec": {
   "display_name": "Python 2",
   "language": "python",
   "name": "python2"
  },
  "language_info": {
   "codemirror_mode": {
    "name": "ipython",
    "version": 2
   },
   "file_extension": ".py",
   "mimetype": "text/x-python",
   "name": "python",
   "nbconvert_exporter": "python",
   "pygments_lexer": "ipython2",
   "version": "2.7.9"
  }
 },
 "nbformat": 4,
 "nbformat_minor": 0
}
