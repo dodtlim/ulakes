{
 "metadata": {
  "name": "",
  "signature": "sha256:d97d669ac1ca9aaecd3d9f21d25608152b2bdd9d87414fef464d87480733de3d"
 },
 "nbformat": 3,
 "nbformat_minor": 0,
 "worksheets": [
  {
   "cells": [
    {
     "cell_type": "code",
     "collapsed": false,
     "input": [
      "%pylab inline\n",
      "import csv\n",
      "import gzip\n",
      "import re\n",
      "import numpy as np\n",
      "\n",
      "chroms = {}\n",
      "\n",
      "with gzip.open('SNPs_only.kivu_hom.vcf.gz', 'rb') as csvfile:\n",
      "    reader = csv.reader(csvfile, delimiter='\\t', quotechar='|')\n",
      "    for n,row in enumerate(reader) :\n",
      "        if row[0].startswith('##contig=') :\n",
      "            chrom = re.match('.*(ID=(.*),)',row[0]).group(2)\n",
      "            length = int(re.match('.*(length=(.*)>)',row[0]).group(2))\n",
      "            chroms[chrom] = { 'length' : int(length), 'snps' : np.zeros(length) }\n",
      "            continue\n",
      "        elif row[0].startswith('##') : continue\n",
      "        if row[0] == '#CHROM' : header = row; continue\n",
      "        record = dict(zip(header,row))\n",
      "        #if n == 100 : break\n",
      "        chroms[record['#CHROM']]['snps'][int(record['POS'])] = 1"
     ],
     "language": "python",
     "metadata": {},
     "outputs": [
      {
       "output_type": "stream",
       "stream": "stdout",
       "text": [
        "Populating the interactive namespace from numpy and matplotlib\n"
       ]
      },
      {
       "output_type": "stream",
       "stream": "stderr",
       "text": [
        "WARNING: pylab import has clobbered these variables: ['record']\n",
        "`%matplotlib` prevents importing * from pylab and numpy\n"
       ]
      }
     ],
     "prompt_number": 15
    },
    {
     "cell_type": "code",
     "collapsed": false,
     "input": [
      "mean(chroms['chrLG1']['snps'])"
     ],
     "language": "python",
     "metadata": {},
     "outputs": [
      {
       "metadata": {},
       "output_type": "pyout",
       "prompt_number": 17,
       "text": [
        "0.00014598593027738898"
       ]
      }
     ],
     "prompt_number": 17
    },
    {
     "cell_type": "code",
     "collapsed": false,
     "input": [],
     "language": "python",
     "metadata": {},
     "outputs": []
    }
   ],
   "metadata": {}
  }
 ]
}